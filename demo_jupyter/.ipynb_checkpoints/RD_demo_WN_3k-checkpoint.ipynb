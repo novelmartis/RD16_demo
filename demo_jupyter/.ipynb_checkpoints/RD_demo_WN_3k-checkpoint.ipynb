{
 "cells": [
  {
   "cell_type": "markdown",
   "metadata": {},
   "source": [
    "Paper: Implementing a Reverse Dictionary, based on word definitions, using a Node-Graph Architecture\n",
    "\n",
    "Authors: Sushrut Thorat and Varad Choudhari\n",
    "\n",
    "Preprint at ArXiV: http://arxiv.org/abs/1606.00025"
   ]
  },
  {
   "cell_type": "code",
   "execution_count": 1,
   "metadata": {
    "collapsed": true
   },
   "outputs": [],
   "source": [
    "                                                # RD BEGINS #"
   ]
  },
  {
   "cell_type": "code",
   "execution_count": 2,
   "metadata": {
    "collapsed": true
   },
   "outputs": [],
   "source": [
    "# WN BLM is the lowest performing BLM of the BLMs we use. But wordnet is open-source and that is why we publish this one."
   ]
  },
  {
   "cell_type": "code",
   "execution_count": 3,
   "metadata": {
    "collapsed": false
   },
   "outputs": [
    {
     "name": "stdout",
     "output_type": "stream",
     "text": [
      "Populating the interactive namespace from numpy and matplotlib\n"
     ]
    }
   ],
   "source": [
    "%pylab inline \n",
    "# importing numpy and matplotlib\n",
    "pylab.rcParams['figure.figsize'] = (11.0, 8.0) # setting the default figure size\n",
    "import csv # importing csv to read and write csv files\n",
    "from nltk.corpus import wordnet as wn # for importing morphy\n",
    "import re # for splitting strings\n",
    "from nltk.stem.wordnet import WordNetLemmatizer # for importing wordnet lemmatizer\n",
    "lmtzr = WordNetLemmatizer()\n",
    "from pattern.en import parse # for importing pattern's relational lemmatizer\n",
    "from scipy.sparse import * # of course! But no need here..\n",
    "from scipy import *"
   ]
  },
  {
   "cell_type": "code",
   "execution_count": 4,
   "metadata": {
    "collapsed": false
   },
   "outputs": [],
   "source": [
    "wbl = np.genfromtxt(\"data/3k_wn_BLM.csv\",delimiter=',') # importing the BLM"
   ]
  },
  {
   "cell_type": "code",
   "execution_count": 5,
   "metadata": {
    "collapsed": false
   },
   "outputs": [],
   "source": [
    "wbl = np.array(wbl)\n",
    "np.fill_diagonal(wbl, 0) # self-interaction = 0\n",
    "\n",
    "N = shape(wbl)[0] # no. of entries in the dictionary"
   ]
  },
  {
   "cell_type": "code",
   "execution_count": 6,
   "metadata": {
    "collapsed": false
   },
   "outputs": [],
   "source": [
    "with open('data/3k_wordlist.csv', 'rU') as lista:\n",
    "    reader = csv.reader(lista)\n",
    "    worddb = list(reader) # importing the wordlist"
   ]
  },
  {
   "cell_type": "code",
   "execution_count": 7,
   "metadata": {
    "collapsed": false
   },
   "outputs": [
    {
     "data": {
      "text/plain": [
       "[<matplotlib.lines.Line2D at 0x10d8e1110>]"
      ]
     },
     "execution_count": 7,
     "metadata": {},
     "output_type": "execute_result"
    },
    {
     "data": {
      "image/png": "[encoded data removed]",
      "text/plain": [
       "<matplotlib.figure.Figure at 0x103c078d0>"
      ]
     },
     "metadata": {},
     "output_type": "display_data"
    }
   ],
   "source": [
    "freqr = np.sum(wbl,axis=0) # number of back-linked connections for each word: frequency of appearance in definitions\n",
    "plot(freqr)"
   ]
  },
  {
   "cell_type": "code",
   "execution_count": 8,
   "metadata": {
    "collapsed": false,
    "scrolled": false
   },
   "outputs": [
    {
     "name": "stdout",
     "output_type": "stream",
     "text": [
      "338\n"
     ]
    }
   ],
   "source": [
    "print sum(freqr==0) # no. of words with no back-linked connections: but WN BLM > mBLM in performance"
   ]
  },
  {
   "cell_type": "code",
   "execution_count": 63,
   "metadata": {
    "collapsed": false
   },
   "outputs": [],
   "source": [
    "T = 11. # (T-1)-layered search\n",
    "\n",
    "pos_none = worddb.index(['false']) # Position of the word \"None\" to be displayed if no significant result..\n",
    "\n",
    "result = 30 # No. of words to be outputted\n",
    "setpath = 1000 # Default path length (set to ensure that unlinked words don't interfere.)\n",
    "\n",
    "addcoeff = 1 # 1/(how many user inputs constitute a choice?), here use 1\n",
    "afteraddcoeff = 0.015 # For once the weight goes beyond 1, here use 0.015\n",
    "\n",
    "learning1 = 0 # learning activation flag1"
   ]
  },
  {
   "cell_type": "code",
   "execution_count": 64,
   "metadata": {
    "collapsed": true
   },
   "outputs": [],
   "source": [
    "# Input set test (phrases)\n",
    "\n",
    "# Constructed phrases\n",
    "\n",
    "#input_phrase = 'To make something' #create\n",
    "#input_phrase = 'To describe something in short, accurately' #define\n",
    "#input_phrase = 'To engage into a debate or disagreement' #argue\n",
    "#input_phrase = 'The most natural action of covering a distance using your feet' #walk\n",
    "\n",
    "#input_phrase = 'Study, books, teachers, discipline, friends' #school\n",
    "#input_phrase = 'A feeling that something might go wrong' #fear\n",
    "#input_phrase = 'Son of my parents' #brother\n",
    "#input_phrase = 'Person who creates art' #artist\n",
    "\n",
    "#input_phrase = 'Having information/explanation of' #know\n",
    "#input_phrase = 'The action of trusting a fact' #believe\n",
    "#input_phrase = 'To form thoughts' #think\n",
    "#input_phrase = 'Feed the brain with new information' #learn\n",
    "\n",
    "#input_phrase = 'Something I am always searching for' #joy\n",
    "#input_phrase = 'Not understanding what to do next out of happiness' #excitement\n",
    "#input_phrase = 'A chance to explore a situation' #opportunity\n",
    "#input_phrase = 'A new thought in mind' #idea\n",
    "\n",
    "# Ambiguous phrases\n",
    "\n",
    "#input_phrase = 'A student with paper in school'\n",
    "#input_phrase = 'A place which feels nice'\n",
    "#input_phrase = 'Colorless green ideas sleep furiously'\n",
    "#input_phrase = 'A recreation of reality according to the artists metaphysical value judgments'\n",
    "\n",
    "#input_phrase = 'wife of stepfather'\n",
    "input_phrase = 'son of my parents'"
   ]
  },
  {
   "cell_type": "code",
   "execution_count": 65,
   "metadata": {
    "collapsed": false
   },
   "outputs": [
    {
     "data": {
      "text/plain": [
       "[2567, 1923]"
      ]
     },
     "execution_count": 65,
     "metadata": {},
     "output_type": "execute_result"
    }
   ],
   "source": [
    "# Parsing string through pattern, Extracting words, Removing inflections and Converting words to word ids\n",
    "\n",
    "input_phrase = input_phrase.lower()\n",
    "a = parse(input_phrase,lemmata=True).split()\n",
    "words=[]\n",
    "count = 0\n",
    "for i in a[0]:\n",
    "    for j in range(4,size(i)):\n",
    "        words.append(i[j])\n",
    "for i in [u',',u';',u'-',u'_',u'/',u':',u'&',u'~',u'.',u',']:\n",
    "    if i in words:\n",
    "        words.remove(i)\n",
    "        \n",
    "for i in words:\n",
    "    inflect = wn.morphy(lmtzr.lemmatize(i))\n",
    "    if inflect:\n",
    "        words[count] = inflect.encode('ascii', 'ignore')\n",
    "    else:\n",
    "        words[count] = i.encode('ascii', 'ignore')\n",
    "    count = count + 1\n",
    "count = 0\n",
    "    \n",
    "for i in range(size(words)):\n",
    "    if [words[i]] not in worddb:\n",
    "        words[i] = 0\n",
    "words = [x for x in words if x != 0]\n",
    "\n",
    "Iex = [0]*size(words)\n",
    "incount = 0\n",
    "for i in words:\n",
    "    Iex[incount] = worddb.index([i])\n",
    "    incount = incount + 1\n",
    "Iex"
   ]
  },
  {
   "cell_type": "code",
   "execution_count": 66,
   "metadata": {
    "collapsed": false
   },
   "outputs": [],
   "source": [
    "hlayer = len(Iex) # length of the input set: number of graphs"
   ]
  },
  {
   "cell_type": "code",
   "execution_count": 67,
   "metadata": {
    "collapsed": false
   },
   "outputs": [],
   "source": [
    "dt = 1.\n",
    "n = T/dt\n",
    "n = int(n)\n",
    "\n",
    "layers = 1 # We used BLM and FLM together initially. But just BLM now. \n",
    "arch = layers*hlayer # Total number of layers"
   ]
  },
  {
   "cell_type": "code",
   "execution_count": null,
   "metadata": {
    "collapsed": false
   },
   "outputs": [],
   "source": []
  },
  {
   "cell_type": "code",
   "execution_count": 68,
   "metadata": {
    "collapsed": false
   },
   "outputs": [
    {
     "data": {
      "text/plain": [
       "1.0148880644914928"
      ]
     },
     "execution_count": 68,
     "metadata": {},
     "output_type": "execute_result"
    }
   ],
   "source": [
    "def state_update(st0,Ii): # state update {State is 1 only if incoming current is non-zero}\n",
    "    stata = st0\n",
    "    st0[Ii >= 1] = 1\n",
    "    st0[Ii == 0] = 0\n",
    "    return st0\n",
    "\n",
    "def pathncount_update(p0,c0,I0,t0): # path and count update {Keep track of path and write path length when first hit by current}\n",
    "    p0[(I0 > 0) & (c0 < 1)] = t0\n",
    "    c0[I0 > 0] = c0[I0 > 0] + 1.\n",
    "    return p0,c0\n",
    "\n",
    "def weight_update(wei,addr=addcoeff,aftradd=afteraddcoeff): # learning {Optional}\n",
    "    if wei+addr <= 1:\n",
    "        wei = wei + addr\n",
    "    elif (wei+addr > 1) & (wei < 1):\n",
    "        wei = 1.\n",
    "    else:\n",
    "        wei = exp(1-1/(wei+aftradd))\n",
    "    return wei\n",
    "\n",
    "weight_update(1.) # learning level demo"
   ]
  },
  {
   "cell_type": "code",
   "execution_count": 69,
   "metadata": {
    "collapsed": false
   },
   "outputs": [],
   "source": [
    "state = np.zeros([N,n+1,arch]) # state variable initialisation\n",
    "path = setpath*np.ones([N,arch])\n",
    "counter = np.zeros([N,arch])\n",
    "I = np.zeros([N,n,arch])"
   ]
  },
  {
   "cell_type": "code",
   "execution_count": 70,
   "metadata": {
    "collapsed": false
   },
   "outputs": [],
   "source": [
    "Iext = np.zeros([N,1,arch]) # initialising the network dynamics by inducing current at the input set nodes\n",
    "count = 0\n",
    "for i in Iex:\n",
    "    I[i,0,count] = 1.\n",
    "    count = count + 1"
   ]
  },
  {
   "cell_type": "code",
   "execution_count": 71,
   "metadata": {
    "collapsed": false
   },
   "outputs": [],
   "source": [
    "for i in range(int(n)): # network dynamics update\n",
    "    for j in range(arch):\n",
    "        I[:,i,j] = I[:,i,j] + np.dot(wbl,state[:,i,j])\n",
    "        state[:,i+1,j] = state_update(state[:,i+1,j],I[:,i,j])\n",
    "        [path[:,j],counter[:,j]] = pathncount_update(path[:,j],counter[:,j],I[:,i,j],i+1)"
   ]
  },
  {
   "cell_type": "code",
   "execution_count": 72,
   "metadata": {
    "collapsed": false
   },
   "outputs": [],
   "source": [
    "threshold = 0 # setting threshold {In case you want to display significant results}\n",
    "\n",
    "addbl = np.zeros(N)\n",
    "for i in range(hlayer): # adding inverse path lengths in all layers\n",
    "    for j in range(N):\n",
    "        if freqr[Iex[i]] > 0:\n",
    "            if path[int(j),int(i)] == 2.: # if path length is 2 (shortest link), also multiply by the link weight (for learning purposes)\n",
    "                if freqr[Iex[i]] > 0:\n",
    "                    addbl[int(j)] = addbl[int(j)] + (1./(path[int(j),i]))*wbl[int(j),Iex[i]]*(1./freqr[Iex[i]])\n",
    "            else:\n",
    "                if freqr[Iex[i]] > 0:\n",
    "                    addbl[int(j)] = addbl[int(j)] + (1./(path[int(j),i]))*(1./freqr[Iex[i]])\n",
    "denom = 0.\n",
    "for i in range(hlayer):\n",
    "    if freqr[Iex[i]] > 0:\n",
    "        denom = denom + 1./freqr[Iex[i]]\n",
    "if denom > 0:\n",
    "    addbl = addbl/denom\n",
    "    \n",
    "idiblp = (-addbl).argsort()[:result+hlayer] # sorting the wordids according to multibl values\n",
    "idibl = pos_none*np.ones(result)\n",
    "cou = 0\n",
    "coui = 0\n",
    "while cou<result and coui<(result+hlayer): # deleting the input set words from the results\n",
    "    if idiblp[coui] not in Iex:\n",
    "        proxy1 = idiblp[coui]\n",
    "        if addbl[proxy1] > threshold: # level of significance\n",
    "            idibl[cou] = idiblp[coui]\n",
    "            cou = cou + 1\n",
    "            coui = coui + 1\n",
    "        else:\n",
    "            coui = coui + 1\n",
    "    else:\n",
    "        coui = coui + 1"
   ]
  },
  {
   "cell_type": "code",
   "execution_count": 73,
   "metadata": {
    "collapsed": false
   },
   "outputs": [
    {
     "data": {
      "text/plain": [
       "array([ 2776.,  2096.,  1803.,  1510.,  1863.,   788.,  1043.,  1789.,\n",
       "         458.,   354.,  1518.,  1243.,  1058.,   340.,  1280.,  2516.,\n",
       "         275.,   514.,  3050.,   664.,  2294.,  1247.,   742.,  1542.,\n",
       "         445.,  1953.,  2482.,   641.,  2009.,  2892.])"
      ]
     },
     "execution_count": 73,
     "metadata": {},
     "output_type": "execute_result"
    }
   ],
   "source": [
    "idibl"
   ]
  },
  {
   "cell_type": "code",
   "execution_count": 74,
   "metadata": {
    "collapsed": false,
    "scrolled": false
   },
   "outputs": [
    {
     "data": {
      "text/plain": [
       "<matplotlib.text.Text at 0x11f643750>"
      ]
     },
     "execution_count": 74,
     "metadata": {},
     "output_type": "execute_result"
    },
    {
     "data": {
      "image/png": "[encoded data removed]",
      "text/plain": [
       "<matplotlib.figure.Figure at 0x11f316510>"
      ]
     },
     "metadata": {},
     "output_type": "display_data"
    }
   ],
   "source": [
    "for i in Iex: # visual representation of significance\n",
    "    addbl[i] = addbl.min()\n",
    "plot(addbl,'b-')\n",
    "plt.xlabel('Word ID')\n",
    "plt.ylabel('Measure of Similarity')"
   ]
  },
  {
   "cell_type": "code",
   "execution_count": 75,
   "metadata": {
    "collapsed": false
   },
   "outputs": [
    {
     "name": "stdout",
     "output_type": "stream",
     "text": [
      "son of my parents\n"
     ]
    }
   ],
   "source": [
    "print input_phrase"
   ]
  },
  {
   "cell_type": "code",
   "execution_count": 76,
   "metadata": {
    "collapsed": false
   },
   "outputs": [
    {
     "name": "stdout",
     "output_type": "stream",
     "text": [
      "Input phrase:\n",
      "son\n",
      "parent\n"
     ]
    }
   ],
   "source": [
    "print \"Input phrase:\"\n",
    "for num in Iex:\n",
    "    print worddb[int(num)][0]"
   ]
  },
  {
   "cell_type": "code",
   "execution_count": 77,
   "metadata": {
    "collapsed": false,
    "scrolled": false
   },
   "outputs": [
    {
     "name": "stdout",
     "output_type": "stream",
     "text": [
      "Back-linked words results:\n",
      "tell\n",
      "prince\n",
      "nephew\n",
      "junior\n",
      "older\n",
      "direct\n",
      "family\n",
      "natural\n",
      "child\n",
      "bush\n",
      "kid\n",
      "grandchild\n",
      "father\n",
      "brother\n",
      "half\n",
      "sister\n",
      "birth\n",
      "colony\n",
      "whole\n",
      "cross\n",
      "respect\n",
      "grandparent\n",
      "delivery\n",
      "labour\n",
      "check\n",
      "people\n",
      "shot\n",
      "court\n",
      "play\n",
      "turn\n"
     ]
    }
   ],
   "source": [
    "print \"Back-linked words results:\" # Output\n",
    "for num in idibl:\n",
    "    print worddb[int(num)][0]"
   ]
  },
  {
   "cell_type": "code",
   "execution_count": null,
   "metadata": {
    "collapsed": false
   },
   "outputs": [],
   "source": []
  },
  {
   "cell_type": "code",
   "execution_count": 78,
   "metadata": {
    "collapsed": false
   },
   "outputs": [],
   "source": [
    "learning2 = 0 # learning activation flag2\n",
    "add_word = [] # !Learning! {Only learn one word at a time}\n",
    "if learning1*learning2 == 1:\n",
    "    for i in Iex:\n",
    "        wbl[add_word,i] = weight_update(wbl[add_word,i])\n",
    "    np.savetxt('database/blink_m.csv', wbl, delimiter=',', fmt ='%.2f') "
   ]
  },
  {
   "cell_type": "code",
   "execution_count": null,
   "metadata": {
    "collapsed": true
   },
   "outputs": [],
   "source": []
  },
  {
   "cell_type": "code",
   "execution_count": 79,
   "metadata": {
    "collapsed": true
   },
   "outputs": [],
   "source": [
    "                                                 # END OF RD #"
   ]
  },
  {
   "cell_type": "code",
   "execution_count": null,
   "metadata": {
    "collapsed": false
   },
   "outputs": [],
   "source": []
  },
  {
   "cell_type": "code",
   "execution_count": 80,
   "metadata": {
    "collapsed": true
   },
   "outputs": [],
   "source": [
    "                                                   # MISC. #"
   ]
  },
  {
   "cell_type": "code",
   "execution_count": 81,
   "metadata": {
    "collapsed": false,
    "scrolled": true
   },
   "outputs": [
    {
     "data": {
      "text/plain": [
       "56222"
      ]
     },
     "execution_count": 81,
     "metadata": {},
     "output_type": "execute_result"
    }
   ],
   "source": [
    "np.count_nonzero(wbl)"
   ]
  },
  {
   "cell_type": "code",
   "execution_count": null,
   "metadata": {
    "collapsed": false,
    "scrolled": false
   },
   "outputs": [],
   "source": []
  },
  {
   "cell_type": "code",
   "execution_count": 82,
   "metadata": {
    "collapsed": false
   },
   "outputs": [
    {
     "data": {
      "text/plain": [
       "(3107, 3107)"
      ]
     },
     "execution_count": 82,
     "metadata": {},
     "output_type": "execute_result"
    }
   ],
   "source": [
    "np.shape(wbl)"
   ]
  },
  {
   "cell_type": "code",
   "execution_count": 83,
   "metadata": {
    "collapsed": false
   },
   "outputs": [
    {
     "data": {
      "text/plain": [
       "'cats running ran cactus cactuses cacti community communities'"
      ]
     },
     "execution_count": 83,
     "metadata": {},
     "output_type": "execute_result"
    }
   ],
   "source": [
    "lenti = lmtzr.lemmatize('cats running ran cactus cactuses cacti community communities')\n",
    "#lenti = wn.morphy(lenti)\n",
    "lenti"
   ]
  },
  {
   "cell_type": "code",
   "execution_count": 84,
   "metadata": {
    "collapsed": false
   },
   "outputs": [
    {
     "name": "stdout",
     "output_type": "stream",
     "text": [
      "[u'login']\n"
     ]
    }
   ],
   "source": [
    "from pattern.en import parse\n",
    "a = parse('login',lemmata=True).split()\n",
    "b=[]\n",
    "for i in a[0]:\n",
    "    b.append(i[4])\n",
    "print b"
   ]
  },
  {
   "cell_type": "code",
   "execution_count": 85,
   "metadata": {
    "collapsed": false
   },
   "outputs": [
    {
     "data": {
      "text/plain": [
       "'logic'"
      ]
     },
     "execution_count": 85,
     "metadata": {},
     "output_type": "execute_result"
    }
   ],
   "source": [
    "wn.morphy('logic')"
   ]
  },
  {
   "cell_type": "code",
   "execution_count": 86,
   "metadata": {
    "collapsed": false
   },
   "outputs": [
    {
     "data": {
      "text/plain": [
       "'intensively'"
      ]
     },
     "execution_count": 86,
     "metadata": {},
     "output_type": "execute_result"
    }
   ],
   "source": [
    "wn.morphy('intensively')"
   ]
  },
  {
   "cell_type": "code",
   "execution_count": 87,
   "metadata": {
    "collapsed": false
   },
   "outputs": [],
   "source": [
    "plotter = np.zeros([160,1])"
   ]
  },
  {
   "cell_type": "code",
   "execution_count": 88,
   "metadata": {
    "collapsed": false
   },
   "outputs": [],
   "source": [
    "for i in range(np.size(plotter)-1):\n",
    "    plotter[i+1,0] = weight_update(plotter[i,0])"
   ]
  },
  {
   "cell_type": "code",
   "execution_count": 89,
   "metadata": {
    "collapsed": false,
    "scrolled": false
   },
   "outputs": [
    {
     "data": {
      "text/plain": [
       "<matplotlib.text.Text at 0x11f5fca10>"
      ]
     },
     "execution_count": 89,
     "metadata": {},
     "output_type": "execute_result"
    },
    {
     "data": {
      "image/png": "[encoded data removed]",
      "text/plain": [
       "<matplotlib.figure.Figure at 0x11f5fcb50>"
      ]
     },
     "metadata": {},
     "output_type": "display_data"
    }
   ],
   "source": [
    "plot(plotter)\n",
    "plt.xlabel('Number of user clicks')\n",
    "plt.ylabel('Weight')"
   ]
  }
 ],
 "metadata": {
  "kernelspec": {
   "display_name": "Python 2",
   "language": "python",
   "name": "python2"
  },
  "language_info": {
   "codemirror_mode": {
    "name": "ipython",
    "version": 2
   },
   "file_extension": ".py",
   "mimetype": "text/x-python",
   "name": "python",
   "nbconvert_exporter": "python",
   "pygments_lexer": "ipython2",
   "version": "2.7.11"
  }
 },
 "nbformat": 4,
 "nbformat_minor": 0
}
